{
  "nbformat": 4,
  "nbformat_minor": 0,
  "metadata": {
    "colab": {
      "name": "MUSACODE教材サンプル.ipynb",
      "provenance": [],
      "collapsed_sections": [],
      "toc_visible": true,
      "authorship_tag": "ABX9TyOlbp5OjknIaHGRVoMiqwQN",
      "include_colab_link": true
    },
    "kernelspec": {
      "name": "python3",
      "display_name": "Python 3"
    },
    "language_info": {
      "name": "python"
    }
  },
  "cells": [
    {
      "cell_type": "markdown",
      "metadata": {
        "id": "view-in-github",
        "colab_type": "text"
      },
      "source": [
        "<a href=\"https://colab.research.google.com/github/MitsukiUsui/MUSACODE/blob/main/MUSACODE%E6%95%99%E6%9D%90%E3%82%B5%E3%83%B3%E3%83%97%E3%83%AB.ipynb\" target=\"_parent\"><img src=\"https://colab.research.google.com/assets/colab-badge.svg\" alt=\"Open In Colab\"/></a>"
      ]
    },
    {
      "cell_type": "markdown",
      "source": [
        "# 0. はじめに"
      ],
      "metadata": {
        "id": "DI92NSNkVX4B"
      }
    },
    {
      "cell_type": "markdown",
      "source": [
        "プログラミング集中講座[MUSACODE](https://musacode.tech/)に興味を持っていただきありがとうございます。このノートブックは、MUSACODEの演習でも使用予定の[Google Colab](https://colab.research.google.com/?hl=ja)を使った教材サンプルです。\n",
        "\n",
        "Colabはブラウザ上でPythonを記述、実行できる環境です。ノートブックは、セルと呼ばれるブロックから構成されており、コードの書かれたセルの左側に表示される実行ボタンをクリックすれば、コードを実行することができます。"
      ],
      "metadata": {
        "id": "PzNB6ZUzTDuC"
      }
    },
    {
      "cell_type": "code",
      "source": [
        "print('MUSACODEへようこそ！')"
      ],
      "metadata": {
        "id": "TvWTfOQ5VTA8"
      },
      "execution_count": null,
      "outputs": []
    },
    {
      "cell_type": "markdown",
      "source": [
        "「MUSACODEへようこそ！」と表示されましたか？\n",
        "それでは早速始めましょう！\n",
        "\n",
        "\n",
        "（注意）\n",
        "* 最初のセルの実行時は立ち上げに10秒ほどかかります。\n",
        "* \"Warning: This notebook was not authored by Google.\"という警告が表示された場合は、\"Run anyway\"を選択してください。\n",
        "* \"Google sign-in required\"という警告が表示された場合は、お持ちのGoogleアカウントでログインしてください。\n"
      ],
      "metadata": {
        "id": "-X-JnLNeVTmd"
      }
    },
    {
      "cell_type": "markdown",
      "source": [
        "# 1. Pythonを書いてみよう\n",
        "\n",
        "先ほどのコードの`print()`は文字列を表示するための命令です。まずは入力として渡す文字列を変更して、好きな文字列を表示させてみましょう。"
      ],
      "metadata": {
        "id": "0JDsxXCbRUYP"
      }
    },
    {
      "cell_type": "code",
      "source": [
        "print('好きな文字列に変えてみよう')"
      ],
      "metadata": {
        "id": "wJdCTofDAPDJ"
      },
      "execution_count": null,
      "outputs": []
    },
    {
      "cell_type": "markdown",
      "source": [
        "入力として直接文字列を渡すだけでなく、変数を定義してから渡すこともできます。"
      ],
      "metadata": {
        "id": "Pyj4VwDRvHxX"
      }
    },
    {
      "cell_type": "code",
      "source": [
        "text = '変数を使ってみよう'\n",
        "print(text)"
      ],
      "metadata": {
        "id": "U_KFNZq3adbw"
      },
      "execution_count": null,
      "outputs": []
    },
    {
      "cell_type": "markdown",
      "source": [
        "変数を使うことで、より柔軟なコードを書くことができます。例えば次の例では、`name`変数を変更すれば、それぞれの名前に合わせたメッセージを表示できるようになっています。なお、`+`演算子を使って2つの文字列を結合しています。"
      ],
      "metadata": {
        "id": "bMLOD-Ca1NrB"
      }
    },
    {
      "cell_type": "code",
      "source": [
        "name = 'あなたの名前' # 名前を変更してみよう\n",
        "text = name + 'さん、MUSACODEへようこそ！'\n",
        "print(text)"
      ],
      "metadata": {
        "id": "-cWGlmUiwgZg"
      },
      "execution_count": null,
      "outputs": []
    },
    {
      "cell_type": "markdown",
      "source": [
        "forループを使えば、指定した回数だけ同じ処理を繰り返すことができます。下の例では、`i`という変数が0,1,2と増えて、合計3回の処理が行われていることが分かります。なお、`+`演算子を使う前に、`str(i)`を呼ぶことで、数字の`i`をで文字列に変更しています。"
      ],
      "metadata": {
        "id": "8L9pTgxUrjIJ"
      }
    },
    {
      "cell_type": "code",
      "source": [
        "for i in range(3): # 繰り返しの回数を変更してみよう\n",
        "  print(str(i) + '回目のこんにちは')"
      ],
      "metadata": {
        "id": "_OJ9oejrr4GU"
      },
      "execution_count": null,
      "outputs": []
    },
    {
      "cell_type": "markdown",
      "source": [
        "MUSACODEでは、このような実習形式で、if文やforループ、関数やクラスといった、プログラムの基本構文を効率的に習得していきます。"
      ],
      "metadata": {
        "id": "ZX5EKABYQvsV"
      }
    },
    {
      "cell_type": "markdown",
      "source": [
        "# 2. エラーを出してみよう\n",
        "\n",
        "プログラミング学習にエラーは付き物です。例えば次のコードを実行してみてください。"
      ],
      "metadata": {
        "id": "JAcax9q-zQsa"
      }
    },
    {
      "cell_type": "code",
      "source": [
        "text = 'エラーが出てしまう...'\n",
        "print(taxt)"
      ],
      "metadata": {
        "id": "PJhiacfGZyuu"
      },
      "execution_count": null,
      "outputs": []
    },
    {
      "cell_type": "markdown",
      "source": [
        "何やら恐ろしげな英語が表示されましたね。大丈夫、これはエラーメッセージと呼ばれ、コードのどこが間違えているか教えてくれる、あなたの味方です。\n",
        "\n",
        "```\n",
        "---------------------------------------------------------------------------\n",
        "NameError                                 Traceback (most recent call last)\n",
        "<ipython-input-46-d0d40b08e215> in <module>()\n",
        "      1 text = 'エラーが出てしまう...'\n",
        "----> 2 print(taxt)\n",
        "\n",
        "NameError: name 'taxt' is not defined\n",
        "```\n",
        "\n",
        "最後の行を読むと、`taxt`という変数が定義されていない（= \"not defined\"）と言っています。その上を見てみると、コードの2行目の`print(taxt)`という部分でエラーが出てしまったようです。なるほど、`print()`に`text`を渡すべきところを、間違えて`taxt`と書いてしまっていたのですね。\n",
        "\n",
        "さっそくコードを修正してみましょう。無事に「エラーが治った！」と表示されれば、正しく動いています。\n"
      ],
      "metadata": {
        "id": "3YH2BAIX0VH8"
      }
    },
    {
      "cell_type": "code",
      "source": [
        "text = 'エラーが治った！'\n",
        "print(taxt)"
      ],
      "metadata": {
        "id": "eh_T5ZMx6MYL"
      },
      "execution_count": null,
      "outputs": []
    },
    {
      "cell_type": "markdown",
      "source": [
        "「たった1文字のミスで動かないなんて、気が利かないな」と思うかもしれません。しかし、このような厳密さによって、プログラムの最大の特徴の一つである「いつでもどこでも正確に動く」という性質が成立しているのです。\n",
        "\n",
        "\n",
        "たくさんコードを書いてたくさんエラーを出すことは、プログラミング学習の最大の近道です。MUSACODEでは経験豊富なメンターの元で、プログラミング演習に取り組むことで、沢山のエラーを乗り越え、素早く成長することができます。"
      ],
      "metadata": {
        "id": "Z876RSTr6BsR"
      }
    },
    {
      "cell_type": "markdown",
      "source": [
        "## 演習問題\n",
        "\n",
        "（問題2-1）次のエラーを直してみよう。  "
      ],
      "metadata": {
        "id": "5fh7uwvh7NKK"
      }
    },
    {
      "cell_type": "code",
      "source": [
        "name = 'エラーマン\"\n",
        "text = name + 'さん、MUSACODEへようこそ！'\n",
        "print(text)"
      ],
      "metadata": {
        "id": "-kzbVdQE7WJn"
      },
      "execution_count": null,
      "outputs": []
    },
    {
      "cell_type": "markdown",
      "source": [
        "（問題2-2）次のエラーを直してみよう。"
      ],
      "metadata": {
        "id": "yw44p5gEUo-A"
      }
    },
    {
      "cell_type": "code",
      "source": [
        "total = 1 + 2 + 3\n",
        "print('1から3の和は' + total)"
      ],
      "metadata": {
        "id": "ngU6TJF1TUqR"
      },
      "execution_count": null,
      "outputs": []
    },
    {
      "cell_type": "markdown",
      "source": [
        "[ヒントを見る](#hint-cell)"
      ],
      "metadata": {
        "id": "o3vOf9kPlTWo"
      }
    },
    {
      "cell_type": "markdown",
      "source": [
        "# 3. 効率的なアルゴリズムを考えよう\n",
        "\n",
        "ここからはMUSACODEのメイントピックでもある、アルゴリズムとデータ構造について見てみましょう。アルゴリズムとは「問題を解くための手順」のことを言います。抽象的で少し分かりにくいので、具体例を出してみます。\n",
        "\n",
        "ある日のこと、あなたは「3の1000乗（= `3^1000`）を求めてみたい」と思いました。この問題を解くには、どのような手順で計算すれば良いでしょうか？\n",
        "\n",
        "3の1000乗の定義にそのまま従えば、`3×3×3× ... ×3`と3を1000回掛け算する方法を思いつくでしょう。この手順こそがアルゴリズムです。\n",
        "\n",
        "さて、現状のアルゴリズムでも答えに辿り着けますが、掛け算を1000回するのは大変ですね。掛け算の回数が少なくてすむ、もっと効率的なアルゴリズムはあるのでしょうか？\n",
        "\n",
        "毎回3をかける代わりに、ある程度まとめてから掛け算するというのはどうでしょうか？例えば`3×3=9`なので、3を1000回かける代わりに、9を500回かけても同じ答えに辿り着けるはずです。掛け算の回数を1000回から501回に減らすことができました。\n",
        "\n",
        "さらに進んで、`9×9=81`(=`3^4`)を250回かけるのはどうでしょう？ `81×81=6561` (= `3^8`)を125回かけるのは？125はもう2で割り切れませんが、`6561^125 = 6561×(6561^124)`なので、124乗の部分をさらに`3^16`、`3^32`とまとめていくことができそうです。 \n",
        "\n",
        "この考え方を突き詰めていくと、3の1000乗は以下の掛け算にまとめられることが分かります。\n",
        "\n",
        "```\n",
        "3^1000 = 3^8 × 3^32 × 3^64 × 3^128 × 3^256 × 3^512\n",
        "```\n",
        "\n",
        "従って、このアルゴリズムで`3^1000`を計算する場合は、まず`3^512`まで求めるのに9回（512 = `2^9`）、上の式に従って結果を掛け合わせるのに5回で、合計たった14回の掛け算まで減らせることが分かりました。\n",
        "\n",
        "![picture](https://raw.githubusercontent.com/MitsukiUsui/MUSACODE/main/public/images/musacode_sample_power.png)\n",
        "\n",
        "このように、同じ問題を解く場合でも、選択するアルゴリズムによって、計算効率に大きな違いが生まれます。MUSACODEでは、ソートや経路探索など、私たちの日々の生活にも密接に関わる代表的なアルゴリズムについて、実際に手を動かしながら学んでいきます。\n",
        "\n",
        "\n",
        "\n",
        "\n"
      ],
      "metadata": {
        "id": "qHO5hzKeb9_r"
      }
    },
    {
      "cell_type": "markdown",
      "source": [
        "## 演習問題\n",
        "\n",
        "（問題3-1）上の2つのアルゴリズムを使って3の10000乗を求める場合、それぞれ何回の掛け算が必要だろうか？\n",
        "\n",
        "（問題3-2）5桁のランダムな数字が書いてある1000枚のカードを数字の小さい順に並べたいとする。2人で協力して行うとき、どんなアルゴリズムが考えられるだろうか？\n",
        "\n",
        "[ヒントを見る](#hint-cell)"
      ],
      "metadata": {
        "id": "3dJ-dJ2zT4mt"
      }
    },
    {
      "cell_type": "markdown",
      "source": [
        "# 4. 適切なデータ構造を使おう\n",
        "\n",
        "ここからはデータ構造について見てみましょう。少しコードが出てきますが、今はまだ分からなくても大丈夫。MUSACODEでは、まずは座学で必要な知識を学び、それを演習で確認するという学習サイクルになっています。\n",
        "\n",
        "Pythonを始めとする、ほとんど全てのプログラミング言語には、リストとセットと呼ばれるデータ構造があります。"
      ],
      "metadata": {
        "id": "dp1itMf2Yks6"
      }
    },
    {
      "cell_type": "code",
      "source": [
        "name_list = ['ハリー', 'ロン', 'ハーマイオニー'] # リストは角括弧で囲む\n",
        "name_set = {'ハリー', 'ロン', 'ハーマイオニー'} # セットは波括弧で囲む"
      ],
      "metadata": {
        "id": "k3uWurTlYqlz"
      },
      "execution_count": null,
      "outputs": []
    },
    {
      "cell_type": "markdown",
      "source": [
        "どちらも要素の集合を表現するデータ構造ですが、どのような違いがあるのでしょうか？簡単にいうと、リストには要素の順番がありますが、セットにはありません。言い換えると、リストの場合は順番を指定して要素を取り出す、という操作ができますが、セットの場合はできません。\n",
        "\n",
        "このことを、実際にコードで確認してみましょう。Pythonでは、`[i]`という添字表記で集合のi番目の要素を取得できます。なお、リストのセルを実行したときにNameErrorが出てしまった場合は、1つ上のセルを実行して`name_list`と`name_set`を定義してから実行し直してください。"
      ],
      "metadata": {
        "id": "MoJnBWDkGIv2"
      }
    },
    {
      "cell_type": "code",
      "source": [
        "name_list[0] # リストの最初（= 0番目）の要素を取得する"
      ],
      "metadata": {
        "id": "5aPGeO8kWl0A"
      },
      "execution_count": null,
      "outputs": []
    },
    {
      "cell_type": "code",
      "source": [
        "name_set[0] # セットではできない"
      ],
      "metadata": {
        "id": "37Jng7i_YmFJ"
      },
      "execution_count": null,
      "outputs": []
    },
    {
      "cell_type": "markdown",
      "source": [
        "セットとは「どの要素が集合に含まれているか」という情報を効率的に表現できるデータ構造です。集合に含まれるかの判定には、要素が集合の何番目にあったかは関係ないので、セットには順番が保持されていないのです。\n",
        "\n",
        "Pythonでは`in`演算子を使って、要素が集合に含まれるか調べることができます。"
      ],
      "metadata": {
        "id": "irqk7lWjZQcM"
      }
    },
    {
      "cell_type": "code",
      "source": [
        "'マルフォイ' in name_list"
      ],
      "metadata": {
        "id": "itPhT2DeY2XK"
      },
      "execution_count": null,
      "outputs": []
    },
    {
      "cell_type": "code",
      "source": [
        "'マルフォイ' in name_set"
      ],
      "metadata": {
        "id": "BOXMUkSxaNne"
      },
      "execution_count": null,
      "outputs": []
    },
    {
      "cell_type": "markdown",
      "source": [
        "リストとセット、どちらの結果もFalse、すなわちマルフォイが集合に含まれていないことが分かりました。\n",
        "\n",
        "さて、ここで重要なのが、プログラムが具体的にどのような処理をして、マルフォイが集合に含まれているかを確認しているかです。リストの場合、要素が並んだものとして集合が表現されているので、コンピューターはリストの先頭から順にマルフォイを探していきます。まず、1番目の要素はハリーなので違います。2番目と3番目もロンとハーマイオニーなので違います。リストの最後まで見てもマルフォイが見つからなかったので、プログラムはFalseを返します。\n",
        "\n",
        "一方のセットは、部屋がたくさんあるマンションのようなデータ構造です。集合に要素を加えるときは、その要素から固有の部屋番号（＝ハッシュ値）を計算し、指定された部屋にその要素を収納します。そのため、マルフォイが集合に含まれるか判断する際は、まずマルフォイの部屋番号を計算し、マルフォイがいるはずの部屋を直接見に行きます。今回の場合、部屋は空っぽなので、プログラムはFalseを返します。\n",
        "\n",
        "![picture](https://raw.githubusercontent.com/MitsukiUsui/MUSACODE/main/public/images/musacode_sample_set.png)\n",
        "\n",
        "この二つの動作を見比べると、リストは集合に含まれる全ての要素を1つずつ確認しているのに対し、セットではマルフォイがいるかを1回で確認することができています。この違いは、要素数3の集合では小さなものですが、要素数が多くなると、大きな違いを生むようになります。\n",
        "\n",
        "このことを、実際に要素数が多いリストとセットを作って確認してみましょう。簡単のため、今回は名前ではなくランダムな数字の集合を作り、実行時間の差が分かりやすいように、forループで合計1000回検索してみます。"
      ],
      "metadata": {
        "id": "ChrdoxmDaZ6j"
      }
    },
    {
      "cell_type": "code",
      "source": [
        "import random\n",
        "\n",
        "number_list = random.sample(range(1000000), 100000) # 100万未満の数字から10万個ランダムに選んだリストを作る\n",
        "number_set = set(number_list) # リストからセットを作る"
      ],
      "metadata": {
        "id": "KcVJEwTuSl_b"
      },
      "execution_count": null,
      "outputs": []
    },
    {
      "cell_type": "code",
      "source": [
        "%%time\n",
        "\n",
        "\"\"\"\n",
        "1000未満の数字がリストに何個含まれるか数える\n",
        "\"\"\"\n",
        "\n",
        "count = 0\n",
        "for i in range(1000):\n",
        "  if i in number_list:\n",
        "    count += 1\n",
        "print(str(count) + '個見つかりました')"
      ],
      "metadata": {
        "id": "jVWIkU7QS7FV"
      },
      "execution_count": null,
      "outputs": []
    },
    {
      "cell_type": "code",
      "source": [
        "%%time\n",
        "\n",
        "\"\"\"\n",
        "1000未満の数字がセットに何個含まれるか数える\n",
        "\"\"\"\n",
        "\n",
        "count = 0\n",
        "for i in range(1000):\n",
        "  if i in number_set:\n",
        "    count += 1\n",
        "print(str(count) + '個見つかりました')"
      ],
      "metadata": {
        "id": "dFTOi8jxTa-d"
      },
      "execution_count": null,
      "outputs": []
    },
    {
      "cell_type": "markdown",
      "source": [
        "どちらも同じ見た目のコードで、同じ答えを出しますが、その実行時間は大きく異なっています。1つ目のリストの探索では10秒近くかかってしまうのに対し、セットの探索は5ミリ秒ほどで、実行時間におよそ2000倍の差ができています（実行時間はタイミングによって多少の違いがあります）。\n",
        "\n",
        "このようにリストとセットは、コード上の表記では角括弧か波括弧か、という僅かな違いしかありませんが、プログラムを実行する上で、大きな違いを生みます。自分の書いているプログラムに合わせて、適切なデータ構造を選択することが大切です。\n",
        "\n",
        "MUSACODEでは、各種データ構造について学び、演習で実際に使ってみることで、データ構造を意識したプログラミングができるようになります。"
      ],
      "metadata": {
        "id": "IOvt5L-uBhG_"
      }
    },
    {
      "cell_type": "markdown",
      "source": [
        "## 演習問題\n",
        "\n",
        "（問題4-1） 以下のケースでは、リストとセットのどちらを使うべきかそれぞれ考えよう。\n",
        "\n",
        "1. クラスの生徒の名前を出席番号順に記録したい\n",
        "2. 冷蔵庫にある食材を登録して、スーパーで同じ物を買わないようにしたい\n",
        "\n",
        "（問題4-2） 上で実装した、1000未満の数字がリストに何個含まれるか数えるプログラムは、実はもう少し効率的なアルゴリズムが考えられる。どのような改善ができるだろうか？\n",
        "\n",
        "[ヒントを見る](#hint-cell)"
      ],
      "metadata": {
        "id": "M4BeNGokeAvd"
      }
    },
    {
      "cell_type": "markdown",
      "source": [
        "\n",
        "\n",
        "---\n",
        "\n",
        "\n",
        "\n",
        "---\n",
        "\n"
      ],
      "metadata": {
        "id": "KwuaY1mofX5G"
      }
    },
    {
      "cell_type": "markdown",
      "source": [
        "<a name=\"hint-cell\"></a>\n",
        "# 演習問題のヒント\n",
        "\n",
        "(問題2-1) `SyntaxError`というのは、コードの構文が正しくないということで、`EOL while scanning string literal`という詳細から、文字列（= \"string literal\"）が正しく定義できていないことが分かる。文字列は二つのシングルクォーテーション（`'`）で囲んで表すが、上のコードを見てみると...?\n",
        "\n",
        "(問題2-2) `TypeError`というのは、変数の型が正しくないということで、`can only concatenate str (not \"int\") to str`という詳細から、`+`演算子は文字列（`str`）と数値（`int`）を結合できないことが分かる。前のコードでは、数値型を`str()`を使って文字列に変換していたことを思い出そう。\n",
        "\n",
        "(問題3-1) 10000を1, 2, 4, 8, 16, 32, 64, ...という`2^n`の和に分解することを考えよう。\n",
        "\n",
        "(問題3-2) この問題に明確な答えは無いが、[マージソート](https://www.codereading.com/algo_and_ds/algo/merge_sort.html)のような考え方が使えるかもしれない。\n",
        "\n",
        "(問題4-1) 順序が必要なときはリストを使い、集合に含まれるかの判定をしたいときはセットを使うことを思い出そう。\n",
        "\n",
        "(問題4-2) 上のプログラムでは、0から999の1000個の数字それぞれに対し、`number_list`の要素を（最悪の場合）全て（=10万個）チェックしているため、合計でおよそ10億回の比較が生じている。このとき、`number_list`の各要素について、0から999の数字とそれぞれ比較しているが、その要素が1000以下の数字かどうかは、一度見れば判定できるはずである。"
      ],
      "metadata": {
        "id": "-cgy6YInL9dD"
      }
    },
    {
      "cell_type": "markdown",
      "source": [
        "# 編集履歴\n",
        "* [2022/6/10] 第1版を公開 (薄井光生)"
      ],
      "metadata": {
        "id": "M3_pTas8BWSL"
      }
    }
  ]
}